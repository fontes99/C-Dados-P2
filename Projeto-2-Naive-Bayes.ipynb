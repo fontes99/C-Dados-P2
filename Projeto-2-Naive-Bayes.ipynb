{
 "cells": [
  {
   "cell_type": "markdown",
   "metadata": {},
   "source": [
    "# Projeto 2 - Classificador Automático de Sentimento\n",
    "\n",
    "Você foi contratado por uma empresa parar analisar como os clientes estão reagindo a um determinado produto no Twitter. A empresa deseja que você crie um programa que irá analisar as mensagens disponíveis e classificará como \"relevante\" ou \"irrelevante\". Com isso ela deseja que mensagens negativas, que denigrem o nome do produto, ou que mereçam destaque, disparem um foco de atenção da área de marketing.<br /><br />\n",
    "Como aluno de Ciência dos Dados, você lembrou do Teorema de Bayes, mais especificamente do Classificador Naive-Bayes, que é largamente utilizado em filtros anti-spam de e-mails. O classificador permite calcular qual a probabilidade de uma mensagem ser relevante dadas as palavras em seu conteúdo.<br /><br />\n",
    "Para realizar o MVP (*minimum viable product*) do projeto, você precisa implementar uma versão do classificador que \"aprende\" o que é relevante com uma base de treinamento e compara a performance dos resultados com uma base de testes.<br /><br />\n",
    "Após validado, o seu protótipo poderá também capturar e classificar automaticamente as mensagens da plataforma.\n",
    "\n",
    "## Informações do Projeto\n",
    "\n",
    "Prazo: 19/Set até às 23:59.<br />\n",
    "Grupo: 2 ou 3 pessoas - grupos com 3 pessoas terá uma rubrica diferenciada.<br /><br />\n",
    "Entregáveis via GitHub: \n",
    "* Arquivo notebook com o código do classificador, seguindo as orientações abaixo.\n",
    "* Arquivo Excel com as bases de treinamento e teste totalmente classificado.\n",
    "\n",
    "**NÃO gravar a key do professor no arquivo**\n",
    "\n",
    "\n",
    "### Entrega Intermediária: Check 1 - APS 2\n",
    "\n",
    "Até o dia 10/Set às 23:59, xlsx deve estar no Github com as seguintes evidências: \n",
    "\n",
    "  * Produto escolhido.\n",
    "  * Arquivo Excel contendo a base de treinamento e a base de testes já classificadas.\n",
    "\n",
    "Sugestão de leitura:<br />\n",
    "https://monkeylearn.com/blog/practical-explanation-naive-bayes-classifier/"
   ]
  },
  {
   "cell_type": "markdown",
   "metadata": {},
   "source": [
    "___\n",
    "\n",
    "## Parte I - Adquirindo a Base de Dados\n",
    "\n",
    "Acessar o notebook **Projeto-2-Planilha** para realizar a coleta dos dados. O grupo deve classificar os dados coletados manualmente."
   ]
  },
  {
   "cell_type": "code",
   "execution_count": 1,
   "metadata": {},
   "outputs": [],
   "source": [
    "import pandas as pd\n",
    "import matplotlib.pyplot as plt"
   ]
  },
  {
   "cell_type": "markdown",
   "metadata": {},
   "source": [
    "___\n",
    "## Parte II - Montando o Classificador Naive-Bayes\n",
    "\n",
    "Com a base de treinamento montada, comece a desenvolver o classificador. Não se esqueça de implementar o Laplace Smoothing (https://en.wikipedia.org/wiki/Laplace_smoothing).\n",
    "\n",
    "Opcionalmente: \n",
    "* Limpar as mensagens removendo os caracteres: enter, :, \", ', (, ), etc. Não remover emojis.<br />\n",
    "* Corrigir separação de espaços entre palavras e/ou emojis.\n",
    "* Propor outras limpezas/transformações que não afetem a qualidade da informação.\n",
    "\n",
    "Escreva o seu código abaixo:"
   ]
  },
  {
   "cell_type": "code",
   "execution_count": 2,
   "metadata": {},
   "outputs": [],
   "source": [
    "df = pd.read_excel('tweets_Cup Noodles_201809101833.xlsx')\n",
    "\n",
    "lista_0 = df[df.Class == 0]\n",
    "\n",
    "lista_1 = df[df.Class == 1]"
   ]
  },
  {
   "cell_type": "code",
   "execution_count": 3,
   "metadata": {},
   "outputs": [],
   "source": [
    "lista_relevante = list(lista_1['Treinamento'])\n",
    "\n",
    "ling = ' '.join(lista_relevante)\n",
    "\n",
    "lista_rel = pd.Series(ling.split())"
   ]
  },
  {
   "cell_type": "code",
   "execution_count": 4,
   "metadata": {},
   "outputs": [],
   "source": [
    "lista_irelevante = list(lista_0['Treinamento'])\n",
    "\n",
    "ling2 = ' '.join(lista_irelevante)\n",
    "\n",
    "lista_irel = pd.Series(ling2.split())"
   ]
  },
  {
   "cell_type": "code",
   "execution_count": 5,
   "metadata": {},
   "outputs": [
    {
     "data": {
      "text/plain": [
       "1.0    69.230769\n",
       "0.0    30.769231\n",
       "Name: Class, dtype: float64"
      ]
     },
     "execution_count": 5,
     "metadata": {},
     "output_type": "execute_result"
    }
   ],
   "source": [
    "df.Class.value_counts(True) * 100"
   ]
  },
  {
   "cell_type": "code",
   "execution_count": 6,
   "metadata": {},
   "outputs": [],
   "source": [
    "p_rel = 69.230769\n",
    "\n",
    "p_irel = 30.769231"
   ]
  },
  {
   "cell_type": "code",
   "execution_count": 8,
   "metadata": {},
   "outputs": [],
   "source": [
    "vc1 = lista_rel.value_counts() + 1"
   ]
  },
  {
   "cell_type": "code",
   "execution_count": 9,
   "metadata": {},
   "outputs": [
    {
     "data": {
      "text/plain": [
       "3800"
      ]
     },
     "execution_count": 9,
     "metadata": {},
     "output_type": "execute_result"
    }
   ],
   "source": [
    "total1 = sum(vc1)\n",
    "total1"
   ]
  },
  {
   "cell_type": "code",
   "execution_count": 10,
   "metadata": {},
   "outputs": [
    {
     "data": {
      "text/plain": [
       "cup           5.526316\n",
       "noodles       5.078947\n",
       "de            2.631579\n",
       "e             2.000000\n",
       "eu            1.578947\n",
       "que           1.368421\n",
       "é             1.368421\n",
       "um            1.368421\n",
       "o             1.157895\n",
       "pra           0.868421\n",
       "a             0.815789\n",
       "comer         0.815789\n",
       "do            0.789474\n",
       "com           0.657895\n",
       "meu           0.657895\n",
       "no            0.631579\n",
       "comendo       0.578947\n",
       "tem           0.500000\n",
       "vou           0.473684\n",
       "uma           0.473684\n",
       "não           0.447368\n",
       "me            0.421053\n",
       "da            0.421053\n",
       "em            0.421053\n",
       "muito         0.421053\n",
       "minha         0.394737\n",
       "mas           0.394737\n",
       "só            0.368421\n",
       "bom           0.368421\n",
       "na            0.342105\n",
       "                ...   \n",
       "dele          0.052632\n",
       "debaixo       0.052632\n",
       "vontades      0.052632\n",
       "estou         0.052632\n",
       "mala          0.052632\n",
       "guardando     0.052632\n",
       "ração         0.052632\n",
       "térmica?      0.052632\n",
       "ahhhh         0.052632\n",
       "cabelo        0.052632\n",
       "@dropws:      0.052632\n",
       "20            0.052632\n",
       "sono          0.052632\n",
       "piorar        0.052632\n",
       "ouvir         0.052632\n",
       "pringles      0.052632\n",
       "papelão       0.052632\n",
       "chuvinha      0.052632\n",
       "viciou        0.052632\n",
       "beijos        0.052632\n",
       "acabou        0.052632\n",
       "caralho       0.052632\n",
       "deixa         0.052632\n",
       "exatamente    0.052632\n",
       "resto         0.052632\n",
       "ja            0.052632\n",
       "verdade       0.052632\n",
       "velas         0.052632\n",
       "noodles..     0.052632\n",
       "confort       0.052632\n",
       "Length: 995, dtype: float64"
      ]
     },
     "execution_count": 10,
     "metadata": {},
     "output_type": "execute_result"
    }
   ],
   "source": [
    "prob1 = (vc1/total1) * 100\n",
    "prob1"
   ]
  },
  {
   "cell_type": "code",
   "execution_count": 11,
   "metadata": {},
   "outputs": [],
   "source": [
    "vc0 = lista_irel.value_counts() + 1"
   ]
  },
  {
   "cell_type": "code",
   "execution_count": 12,
   "metadata": {},
   "outputs": [
    {
     "data": {
      "text/plain": [
       "2400"
      ]
     },
     "execution_count": 12,
     "metadata": {},
     "output_type": "execute_result"
    }
   ],
   "source": [
    "total0 = sum(vc0)\n",
    "total0"
   ]
  },
  {
   "cell_type": "code",
   "execution_count": 13,
   "metadata": {},
   "outputs": [
    {
     "data": {
      "text/plain": [
       "cup               3.500000\n",
       "noodles           3.000000\n",
       "do                2.666667\n",
       "é                 2.500000\n",
       "no                2.166667\n",
       "de                2.041667\n",
       "rt                1.750000\n",
       "a                 1.750000\n",
       "patrocinador      1.708333\n",
       "oficial           1.625000\n",
       "cblol             1.625000\n",
       "e                 1.541667\n",
       "@esportv:         1.458333\n",
       "@cupnoodles_br    1.291667\n",
       "#cupandgo         1.291667\n",
       "e-sportv!         1.291667\n",
       "o                 1.000000\n",
       "uma               1.000000\n",
       "eu                0.875000\n",
       "os                0.750000\n",
       "um                0.708333\n",
       "certeza:          0.583333\n",
       "que               0.583333\n",
       "muito!            0.583333\n",
       "brilharam         0.583333\n",
       "dois              0.583333\n",
       "só                0.541667\n",
       "https…            0.541667\n",
       "hora!             0.500000\n",
       "quem              0.458333\n",
       "                    ...   \n",
       "rift              0.083333\n",
       "lanche,           0.083333\n",
       "noodles...        0.083333\n",
       "sorvete,          0.083333\n",
       "bancar            0.083333\n",
       "devastada,        0.083333\n",
       "graca             0.083333\n",
       "msi               0.083333\n",
       "bolacha           0.083333\n",
       "donuts,           0.083333\n",
       "grey's            0.083333\n",
       "—                 0.083333\n",
       "cardi             0.083333\n",
       "postando          0.083333\n",
       "comercial         0.083333\n",
       "pizza,            0.083333\n",
       "fome              0.083333\n",
       "profunda          0.083333\n",
       "são               0.083333\n",
       "setembro:         0.083333\n",
       "1h                0.083333\n",
       "né?               0.083333\n",
       "velho             0.083333\n",
       "corpo             0.083333\n",
       "13h,              0.083333\n",
       "ao                0.083333\n",
       "noite             0.083333\n",
       "kojima            0.083333\n",
       "bonecas           0.083333\n",
       "abrir             0.083333\n",
       "Length: 592, dtype: float64"
      ]
     },
     "execution_count": 13,
     "metadata": {},
     "output_type": "execute_result"
    }
   ],
   "source": [
    "prob0 = (vc0/total0) * 100\n",
    "prob0"
   ]
  },
  {
   "cell_type": "markdown",
   "metadata": {},
   "source": [
    "___\n",
    "## Verificando a performance\n",
    "\n",
    "Agora você deve testar o seu Classificador com a base de Testes.<br /><br /> \n",
    "\n",
    "Você deve extrair as seguintes medidas:\n",
    "* Porcentagem de positivos falsos (marcados como relevante mas não são relevantes)\n",
    "* Porcentagem de positivos verdadeiros (marcado como relevante e são relevantes)\n",
    "* Porcentagem de negativos verdadeiros (marcado como não relevante e não são relevantes)\n",
    "* Porcentagem de negativos falsos (marcado como não relevante e são relevantes)\n",
    "\n",
    "Obrigatório para grupos de 3 alunos:\n",
    "* Criar categorias intermediárias de relevância baseado na diferença de probabilidades. Exemplo: muito relevante, relevante, neutro, irrelevante e muito irrelevante."
   ]
  },
  {
   "cell_type": "code",
   "execution_count": 14,
   "metadata": {
    "scrolled": true
   },
   "outputs": [],
   "source": [
    "teste = pd.read_excel('tweets_Cup Noodles_201809101833.xlsx', sheet_name='Teste')"
   ]
  },
  {
   "cell_type": "code",
   "execution_count": null,
   "metadata": {},
   "outputs": [],
   "source": []
  },
  {
   "cell_type": "code",
   "execution_count": 24,
   "metadata": {},
   "outputs": [
    {
     "ename": "SyntaxError",
     "evalue": "unexpected EOF while parsing (<ipython-input-24-6a28f4b578e4>, line 3)",
     "output_type": "error",
     "traceback": [
      "\u001b[1;36m  File \u001b[1;32m\"<ipython-input-24-6a28f4b578e4>\"\u001b[1;36m, line \u001b[1;32m3\u001b[0m\n\u001b[1;33m    \u001b[0m\n\u001b[1;37m    ^\u001b[0m\n\u001b[1;31mSyntaxError\u001b[0m\u001b[1;31m:\u001b[0m unexpected EOF while parsing\n"
     ]
    }
   ],
   "source": [
    "for i in teste.Teste:\n",
    "\n",
    "\n",
    "\n"
   ]
  },
  {
   "cell_type": "markdown",
   "metadata": {},
   "source": [
    "___\n",
    "## Concluindo\n",
    "\n",
    "Escreva aqui a sua conclusão.<br /> \n",
    "Faça um comparativo qualitativo sobre as medidas obtidas.<br />\n",
    "Explique como são tratadas as mensagens com dupla negação e sarcasmo.<br />\n",
    "Proponha um plano de expansão. Por que eles devem continuar financiando o seu projeto?<br />\n",
    "\n",
    "Opcionalmente: \n",
    "* Discorrer por que não posso alimentar minha base de Treinamento automaticamente usando o próprio classificador, aplicado a novos tweets.\n",
    "* Propor diferentes cenários de uso para o classificador Naive-Bayes. Cenários sem intersecção com este projeto.\n",
    "* Sugerir e explicar melhorias reais no classificador com indicações concretas de como implementar (não é preciso codificar, mas indicar como fazer e material de pesquisa sobre o assunto).\n"
   ]
  },
  {
   "cell_type": "code",
   "execution_count": null,
   "metadata": {},
   "outputs": [],
   "source": []
  }
 ],
 "metadata": {
  "kernelspec": {
   "display_name": "Python 3",
   "language": "python",
   "name": "python3"
  },
  "language_info": {
   "codemirror_mode": {
    "name": "ipython",
    "version": 3
   },
   "file_extension": ".py",
   "mimetype": "text/x-python",
   "name": "python",
   "nbconvert_exporter": "python",
   "pygments_lexer": "ipython3",
   "version": "3.6.5"
  }
 },
 "nbformat": 4,
 "nbformat_minor": 2
}
